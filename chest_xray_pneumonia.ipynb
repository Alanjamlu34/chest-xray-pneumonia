{
  "cells": [
    {
      "cell_type": "markdown",
      "metadata": {
        "id": "view-in-github",
        "colab_type": "text"
      },
      "source": [
        "<a href=\"https://colab.research.google.com/github/Alanjamlu34/chest-xray-pneumonia/blob/main/chest_xray_pneumonia.ipynb\" target=\"_parent\"><img src=\"https://colab.research.google.com/assets/colab-badge.svg\" alt=\"Open In Colab\"/></a>"
      ]
    },
    {
      "cell_type": "code",
      "execution_count": 1,
      "metadata": {
        "id": "oVv4Yh2AhmzH"
      },
      "outputs": [],
      "source": [
        "import os\n",
        "import matplotlib.pyplot as plt\n",
        "import seaborn as sns\n",
        "import numpy as np\n",
        "import tensorflow as tf\n",
        "from pathlib import Path\n",
        "from sklearn.metrics import confusion_matrix"
      ]
    },
    {
      "cell_type": "code",
      "source": [
        "from google.colab import drive\n",
        "drive.mount('/content/drive')"
      ],
      "metadata": {
        "colab": {
          "base_uri": "https://localhost:8080/"
        },
        "id": "fGfwrxqAhsLQ",
        "outputId": "d63b1fe0-d52d-4c67-ab5e-cecf3d50d9e9"
      },
      "execution_count": 2,
      "outputs": [
        {
          "output_type": "stream",
          "name": "stdout",
          "text": [
            "Drive already mounted at /content/drive; to attempt to forcibly remount, call drive.mount(\"/content/drive\", force_remount=True).\n"
          ]
        }
      ]
    },
    {
      "cell_type": "code",
      "source": [
        "!kaggle datasets download -d paultimothymooney/chest-xray-pneumonia"
      ],
      "metadata": {
        "colab": {
          "base_uri": "https://localhost:8080/"
        },
        "id": "a2FMbYlCiDh4",
        "outputId": "674d6819-bdfa-4ed6-acc7-4d2da2d1faf2"
      },
      "execution_count": 3,
      "outputs": [
        {
          "output_type": "stream",
          "name": "stdout",
          "text": [
            "Dataset URL: https://www.kaggle.com/datasets/paultimothymooney/chest-xray-pneumonia\n",
            "License(s): other\n",
            "chest-xray-pneumonia.zip: Skipping, found more recently modified local copy (use --force to force download)\n"
          ]
        }
      ]
    },
    {
      "cell_type": "code",
      "source": [
        "!unzip chest-xray-pneumonia.zip"
      ],
      "metadata": {
        "id": "VJHI9YKVB2SB"
      },
      "execution_count": null,
      "outputs": []
    },
    {
      "cell_type": "code",
      "execution_count": 25,
      "metadata": {
        "id": "dGMKgvOvhmzK"
      },
      "outputs": [],
      "source": [
        "data = Path(\"chest_xray\")\n",
        "\n",
        "# Set up the directories\n",
        "train_dir = data / 'train'\n",
        "test_dir = data / 'test'\n",
        "val_dir = data / 'val'"
      ]
    },
    {
      "cell_type": "code",
      "execution_count": 26,
      "metadata": {
        "id": "154Vqj33hmzP"
      },
      "outputs": [],
      "source": [
        "IMG_HEIGHT = 150\n",
        "IMG_WIDTH = 150\n",
        "BATCH_SIZE = 32\n",
        "\n",
        "train_datagen = tf.keras.preprocessing.image.ImageDataGenerator(\n",
        "    rescale=1./255,\n",
        "    rotation_range=15,\n",
        "    shear_range = 0.2,\n",
        "    horizontal_flip=True\n",
        ")\n",
        "\n",
        "val_datagen = tf.keras.preprocessing.image.ImageDataGenerator(\n",
        "    rescale=1./255\n",
        ")\n",
        "\n",
        "test_datagen = tf.keras.preprocessing.image.ImageDataGenerator(\n",
        "    rescale=1./255\n",
        ")"
      ]
    },
    {
      "cell_type": "code",
      "execution_count": 27,
      "metadata": {
        "id": "8z34Y6h6hmzS",
        "outputId": "d36424a3-cf34-4091-a930-9601e5f59dac",
        "colab": {
          "base_uri": "https://localhost:8080/"
        }
      },
      "outputs": [
        {
          "output_type": "stream",
          "name": "stdout",
          "text": [
            "Found 5216 images belonging to 2 classes.\n",
            "Found 16 images belonging to 2 classes.\n",
            "Found 624 images belonging to 2 classes.\n"
          ]
        }
      ],
      "source": [
        "train_data = train_datagen.flow_from_directory(\n",
        "    train_dir,\n",
        "    target_size=(IMG_HEIGHT, IMG_WIDTH),\n",
        "    class_mode='binary',\n",
        "    batch_size=BATCH_SIZE\n",
        ")\n",
        "\n",
        "val_data = train_datagen.flow_from_directory(\n",
        "    val_dir,\n",
        "    target_size=(IMG_HEIGHT, IMG_WIDTH),\n",
        "    class_mode='binary',\n",
        "    batch_size=BATCH_SIZE\n",
        ")\n",
        "\n",
        "test_data = train_datagen.flow_from_directory(\n",
        "    test_dir,\n",
        "    target_size=(IMG_HEIGHT, IMG_WIDTH),\n",
        "    class_mode='binary',\n",
        "    batch_size=BATCH_SIZE\n",
        ")"
      ]
    },
    {
      "cell_type": "markdown",
      "source": [
        "# Transfer Learning MobileNet"
      ],
      "metadata": {
        "id": "pFSguCJiJtdz"
      }
    },
    {
      "cell_type": "code",
      "execution_count": 28,
      "metadata": {
        "id": "QnZHdbkfhmzT",
        "colab": {
          "base_uri": "https://localhost:8080/"
        },
        "outputId": "14cc6f7f-724c-4d90-ea35-df92585a1cb0"
      },
      "outputs": [
        {
          "output_type": "stream",
          "name": "stderr",
          "text": [
            "WARNING:tensorflow:`input_shape` is undefined or non-square, or `rows` is not in [96, 128, 160, 192, 224]. Weights for input shape (224, 224) will be loaded as the default.\n"
          ]
        }
      ],
      "source": [
        "mobilenet = tf.keras.applications.MobileNetV2(\n",
        "    input_shape=(IMG_HEIGHT, IMG_WIDTH, 3),\n",
        "    include_top=False,\n",
        "    weights='imagenet',\n",
        "    pooling='avg'\n",
        ")\n",
        "\n",
        "mobilenet.trainable = False"
      ]
    },
    {
      "cell_type": "code",
      "execution_count": 29,
      "metadata": {
        "id": "qvcQQ5IshmzU",
        "outputId": "4571eb30-de20-4498-d816-8111581103d6",
        "colab": {
          "base_uri": "https://localhost:8080/"
        }
      },
      "outputs": [
        {
          "output_type": "stream",
          "name": "stdout",
          "text": [
            "Model: \"model_1\"\n",
            "_________________________________________________________________\n",
            " Layer (type)                Output Shape              Param #   \n",
            "=================================================================\n",
            " input_4 (InputLayer)        [(None, 150, 150, 3)]     0         \n",
            "                                                                 \n",
            " mobilenetv2_1.00_224 (Func  (None, 1280)              2257984   \n",
            " tional)                                                         \n",
            "                                                                 \n",
            " dense_2 (Dense)             (None, 1024)              1311744   \n",
            "                                                                 \n",
            " dense_3 (Dense)             (None, 1)                 1025      \n",
            "                                                                 \n",
            "=================================================================\n",
            "Total params: 3570753 (13.62 MB)\n",
            "Trainable params: 1312769 (5.01 MB)\n",
            "Non-trainable params: 2257984 (8.61 MB)\n",
            "_________________________________________________________________\n",
            "None\n"
          ]
        }
      ],
      "source": [
        "inputs = tf.keras.Input(shape=(IMG_HEIGHT, IMG_WIDTH, 3))\n",
        "\n",
        "pretrained_model = mobilenet(inputs, training=False)\n",
        "\n",
        "dense = tf.keras.layers.Dense(1024, activation='relu')(pretrained_model)\n",
        "\n",
        "outputs = tf.keras.layers.Dense(1, activation='sigmoid')(dense)\n",
        "\n",
        "model = tf.keras.Model(inputs, outputs)\n",
        "\n",
        "print(model.summary())"
      ]
    },
    {
      "cell_type": "code",
      "source": [
        "class MyCallback(tf.keras.callbacks.Callback):\n",
        "    def on_epoch_end(self, epoch, logs={}):\n",
        "        # Periksa akurasi\n",
        "        if logs.get('accuracy') > 0.90 and logs.get('val_accuracy') > 0.90:\n",
        "            # Hentikan pelatihan jika batas terpenuhi\n",
        "            print(\"\\nAkurasi di atas 95%, sehingga pelatihan dihentikan!\")\n",
        "            self.model.stop_training = True\n",
        "\n",
        "# Membuat instance dari kelas callback\n",
        "callbacks = MyCallback()\n",
        ""
      ],
      "metadata": {
        "id": "wmJOqUPaIjpF"
      },
      "execution_count": 30,
      "outputs": []
    },
    {
      "cell_type": "code",
      "execution_count": 31,
      "metadata": {
        "id": "QjpRpDzahmzU",
        "outputId": "c3f58159-6fa5-460e-e2b1-f83874ab3d39",
        "colab": {
          "base_uri": "https://localhost:8080/"
        }
      },
      "outputs": [
        {
          "output_type": "stream",
          "name": "stdout",
          "text": [
            "Epoch 1/10\n",
            "50/50 [==============================] - 29s 503ms/step - loss: 0.3209 - accuracy: 0.8813 - auc: 0.9312 - val_loss: 0.3799 - val_accuracy: 0.8125 - val_auc: 0.9531\n",
            "Epoch 2/10\n",
            "50/50 [==============================] - 23s 468ms/step - loss: 0.1389 - accuracy: 0.9506 - auc: 0.9830 - val_loss: 0.4543 - val_accuracy: 0.8125 - val_auc: 0.9531\n",
            "Epoch 3/10\n",
            "50/50 [==============================] - 23s 462ms/step - loss: 0.1485 - accuracy: 0.9438 - auc: 0.9809 - val_loss: 0.2129 - val_accuracy: 0.8750 - val_auc: 0.9844\n",
            "Epoch 4/10\n",
            "50/50 [==============================] - 23s 446ms/step - loss: 0.1249 - accuracy: 0.9519 - auc: 0.9879 - val_loss: 0.5727 - val_accuracy: 0.7500 - val_auc: 1.0000\n",
            "Epoch 5/10\n",
            "50/50 [==============================] - 23s 462ms/step - loss: 0.1287 - accuracy: 0.9538 - auc: 0.9851 - val_loss: 0.4994 - val_accuracy: 0.8125 - val_auc: 0.9688\n",
            "Epoch 6/10\n",
            "50/50 [==============================] - ETA: 0s - loss: 0.1402 - accuracy: 0.9463 - auc: 0.9849\n",
            "Akurasi di atas 95%, sehingga pelatihan dihentikan!\n",
            "50/50 [==============================] - 23s 469ms/step - loss: 0.1402 - accuracy: 0.9463 - auc: 0.9849 - val_loss: 0.2093 - val_accuracy: 0.9375 - val_auc: 0.9688\n"
          ]
        }
      ],
      "source": [
        "EPOCHS = 10\n",
        "steps = 50\n",
        "model.compile(\n",
        "    optimizer='adam',\n",
        "    loss='binary_crossentropy',\n",
        "    metrics=[ 'accuracy', tf.keras.metrics.AUC(name='auc')\n",
        "    ]\n",
        ")\n",
        "\n",
        "history = model.fit(\n",
        "    train_data,\n",
        "    validation_data=val_data,\n",
        "    batch_size=BATCH_SIZE,\n",
        "    epochs=EPOCHS,\n",
        "    steps_per_epoch=steps,\n",
        "    callbacks = [callbacks]\n",
        ")"
      ]
    },
    {
      "cell_type": "code",
      "execution_count": 32,
      "metadata": {
        "id": "BsEkLun-hmzV",
        "outputId": "349176c8-cc53-46b3-d657-749fa1606df8",
        "colab": {
          "base_uri": "https://localhost:8080/"
        }
      },
      "outputs": [
        {
          "output_type": "stream",
          "name": "stdout",
          "text": [
            "20/20 [==============================] - 9s 425ms/step\n"
          ]
        },
        {
          "output_type": "execute_result",
          "data": {
            "text/plain": [
              "{'NORMAL': 0, 'PNEUMONIA': 1}"
            ]
          },
          "metadata": {},
          "execution_count": 32
        }
      ],
      "source": [
        "true_labels = test_data.labels\n",
        "pred_labels = np.squeeze(np.array(model.predict(test_data) >= 0.5))\n",
        "\n",
        "cm = confusion_matrix(true_labels, pred_labels)\n",
        "\n",
        "test_data.class_indices"
      ]
    },
    {
      "cell_type": "code",
      "execution_count": 33,
      "metadata": {
        "id": "B36uNvJshmzW",
        "outputId": "0d1542cd-60ae-4ec5-bd32-e009c03d790a",
        "colab": {
          "base_uri": "https://localhost:8080/",
          "height": 548
        }
      },
      "outputs": [
        {
          "output_type": "display_data",
          "data": {
            "text/plain": [
              "<Figure size 600x600 with 1 Axes>"
            ],
            "image/png": "[encoded data removed]"
          },
          "metadata": {}
        }
      ],
      "source": [
        "plt.figure(figsize=(6, 6))\n",
        "sns.heatmap(cm, annot=True, fmt='g', vmin=0, cmap='mako', cbar=False)\n",
        "plt.xlabel(\"Predicted\")\n",
        "plt.ylabel(\"Actual\")\n",
        "plt.xticks(np.arange(2) + 0.5, ['Normal', 'Pneumonia'], fontsize=16)\n",
        "plt.yticks(np.arange(2) + 0.5, ['Normal', 'Pneumonia'], fontsize=16)\n",
        "plt.show()"
      ]
    },
    {
      "cell_type": "code",
      "execution_count": 34,
      "metadata": {
        "id": "IGRvQDknhmzY"
      },
      "outputs": [],
      "source": [
        "results = model.evaluate(test_data, verbose=0)\n",
        "\n",
        "accuracy = results[1]\n",
        "auc = results[2]"
      ]
    },
    {
      "cell_type": "code",
      "execution_count": 35,
      "metadata": {
        "id": "aXpFGf8GhmzZ"
      },
      "outputs": [],
      "source": [
        "tn, fp, fn, tp = cm.ravel()\n",
        "\n",
        "precision = tp / (tp + fp)\n",
        "recall = tp / (tp + fn)"
      ]
    },
    {
      "cell_type": "code",
      "execution_count": 36,
      "metadata": {
        "id": "iTdMFsHHhmzZ",
        "outputId": "8b9a89d3-e155-4002-b933-96d94a5ee5b6",
        "colab": {
          "base_uri": "https://localhost:8080/"
        }
      },
      "outputs": [
        {
          "output_type": "stream",
          "name": "stdout",
          "text": [
            "Accuracy: 0.86\n",
            "AUC: 0.94\n",
            "Precision: 0.63\n",
            "Recall: 0.73\n"
          ]
        }
      ],
      "source": [
        "print(\"Accuracy: {:.2f}\".format(accuracy))\n",
        "print(\"AUC: {:.2f}\".format(auc))\n",
        "print(\"Precision: {:.2f}\".format(precision))\n",
        "print(\"Recall: {:.2f}\".format(recall))"
      ]
    }
  ],
  "metadata": {
    "kernelspec": {
      "display_name": "Python 3",
      "name": "python3"
    },
    "language_info": {
      "codemirror_mode": {
        "name": "ipython",
        "version": 3
      },
      "file_extension": ".py",
      "mimetype": "text/x-python",
      "name": "python",
      "nbconvert_exporter": "python",
      "pygments_lexer": "ipython3",
      "version": "3.8.5"
    },
    "colab": {
      "provenance": [],
      "gpuType": "T4",
      "include_colab_link": true
    },
    "accelerator": "GPU"
  },
  "nbformat": 4,
  "nbformat_minor": 0
}