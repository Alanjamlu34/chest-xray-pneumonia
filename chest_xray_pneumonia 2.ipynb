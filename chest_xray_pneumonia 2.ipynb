{
  "cells": [
    {
      "cell_type": "markdown",
      "metadata": {
        "id": "view-in-github",
        "colab_type": "text"
      },
      "source": [
        "<a href=\"https://colab.research.google.com/github/Alanjamlu34/chest-xray-pneumonia/blob/main/chest_xray_pneumonia%202.ipynb\" target=\"_parent\"><img src=\"https://colab.research.google.com/assets/colab-badge.svg\" alt=\"Open In Colab\"/></a>"
      ]
    },
    {
      "cell_type": "code",
      "execution_count": 1,
      "metadata": {
        "id": "oVv4Yh2AhmzH"
      },
      "outputs": [],
      "source": [
        "import os\n",
        "import matplotlib.pyplot as plt\n",
        "import seaborn as sns\n",
        "import numpy as np\n",
        "import tensorflow as tf\n",
        "from pathlib import Path\n",
        "from sklearn.metrics import confusion_matrix\n",
        "from keras.callbacks import EarlyStopping"
      ]
    },
    {
      "cell_type": "code",
      "source": [
        "from google.colab import drive\n",
        "drive.mount('/content/drive')"
      ],
      "metadata": {
        "colab": {
          "base_uri": "https://localhost:8080/"
        },
        "id": "fGfwrxqAhsLQ",
        "outputId": "53350aeb-b093-4527-8ec1-13f2cbe21ba3"
      },
      "execution_count": 2,
      "outputs": [
        {
          "output_type": "stream",
          "name": "stdout",
          "text": [
            "Drive already mounted at /content/drive; to attempt to forcibly remount, call drive.mount(\"/content/drive\", force_remount=True).\n"
          ]
        }
      ]
    },
    {
      "cell_type": "markdown",
      "source": [
        "## Data Preparation"
      ],
      "metadata": {
        "id": "FfyVlXXId-fW"
      }
    },
    {
      "cell_type": "code",
      "source": [
        "!kaggle datasets download -d paultimothymooney/chest-xray-pneumonia"
      ],
      "metadata": {
        "colab": {
          "base_uri": "https://localhost:8080/"
        },
        "id": "a2FMbYlCiDh4",
        "outputId": "d5c7d455-3af5-429f-d519-0a50ca69694e"
      },
      "execution_count": 3,
      "outputs": [
        {
          "output_type": "stream",
          "name": "stdout",
          "text": [
            "Dataset URL: https://www.kaggle.com/datasets/paultimothymooney/chest-xray-pneumonia\n",
            "License(s): other\n",
            "chest-xray-pneumonia.zip: Skipping, found more recently modified local copy (use --force to force download)\n"
          ]
        }
      ]
    },
    {
      "cell_type": "code",
      "source": [
        "!unzip chest-xray-pneumonia.zip > /dev/null"
      ],
      "metadata": {
        "id": "VJHI9YKVB2SB",
        "colab": {
          "base_uri": "https://localhost:8080/"
        },
        "outputId": "105cc97d-fa55-43a7-824e-7fce69c376a9"
      },
      "execution_count": 4,
      "outputs": [
        {
          "output_type": "stream",
          "name": "stdout",
          "text": [
            "replace chest_xray/__MACOSX/._chest_xray? [y]es, [n]o, [A]ll, [N]one, [r]ename: A\n"
          ]
        }
      ]
    },
    {
      "cell_type": "code",
      "source": [
        "data = Path(\"chest_xray\")\n",
        "\n",
        "# Set up the directories\n",
        "train_dir = data / 'train'\n",
        "test_dir = data / 'test'\n",
        "val_dir = data / 'val'"
      ],
      "metadata": {
        "id": "Q83Aeh2AdwKh"
      },
      "execution_count": 5,
      "outputs": []
    },
    {
      "cell_type": "markdown",
      "source": [
        "## Preproccesing"
      ],
      "metadata": {
        "id": "592KO0hIbclE"
      }
    },
    {
      "cell_type": "code",
      "source": [
        "tf.keras.backend.clear_session()"
      ],
      "metadata": {
        "id": "4igj3iGBYYH4"
      },
      "execution_count": 18,
      "outputs": []
    },
    {
      "cell_type": "code",
      "execution_count": 19,
      "metadata": {
        "id": "154Vqj33hmzP"
      },
      "outputs": [],
      "source": [
        "IMG_HEIGHT = 224\n",
        "IMG_WIDTH = 224\n",
        "BATCH_SIZE = 32\n",
        "\n",
        "train_datagen = tf.keras.preprocessing.image.ImageDataGenerator(\n",
        "    rescale=1./255,\n",
        "    rotation_range=15,\n",
        "    shear_range = 0.3,\n",
        "    horizontal_flip=True\n",
        ")\n",
        "\n",
        "val_datagen = tf.keras.preprocessing.image.ImageDataGenerator(\n",
        "    rescale=1./255\n",
        ")\n",
        "\n",
        "test_datagen = tf.keras.preprocessing.image.ImageDataGenerator(\n",
        "    rescale=1./255\n",
        ")"
      ]
    },
    {
      "cell_type": "code",
      "execution_count": 20,
      "metadata": {
        "id": "8z34Y6h6hmzS",
        "outputId": "08aa8b50-1546-4850-8e23-91e3aa9c68f2",
        "colab": {
          "base_uri": "https://localhost:8080/"
        }
      },
      "outputs": [
        {
          "output_type": "stream",
          "name": "stdout",
          "text": [
            "Found 5216 images belonging to 2 classes.\n",
            "Found 16 images belonging to 2 classes.\n",
            "Found 624 images belonging to 2 classes.\n"
          ]
        }
      ],
      "source": [
        "train_data = train_datagen.flow_from_directory(\n",
        "    train_dir,\n",
        "    target_size=(IMG_HEIGHT, IMG_WIDTH),\n",
        "    class_mode='binary',\n",
        "    batch_size=BATCH_SIZE\n",
        ")\n",
        "\n",
        "val_data = train_datagen.flow_from_directory(\n",
        "    val_dir,\n",
        "    target_size=(IMG_HEIGHT, IMG_WIDTH),\n",
        "    class_mode='binary',\n",
        "    batch_size=BATCH_SIZE\n",
        ")\n",
        "\n",
        "test_data = train_datagen.flow_from_directory(\n",
        "    test_dir,\n",
        "    target_size=(IMG_HEIGHT, IMG_WIDTH),\n",
        "    class_mode='binary',\n",
        "    batch_size=BATCH_SIZE\n",
        ")"
      ]
    },
    {
      "cell_type": "markdown",
      "source": [
        "## Transfer Learning MobileNet"
      ],
      "metadata": {
        "id": "pFSguCJiJtdz"
      }
    },
    {
      "cell_type": "code",
      "execution_count": 21,
      "metadata": {
        "id": "QnZHdbkfhmzT"
      },
      "outputs": [],
      "source": [
        "mobilenet = tf.keras.applications.MobileNetV2(\n",
        "    input_shape=(IMG_HEIGHT, IMG_WIDTH, 3),\n",
        "    include_top=False,\n",
        "    weights='imagenet',\n",
        "    pooling='avg'\n",
        ")\n",
        "\n",
        "mobilenet.trainable = False"
      ]
    },
    {
      "cell_type": "code",
      "execution_count": 22,
      "metadata": {
        "id": "qvcQQ5IshmzU",
        "outputId": "f5e4b6a1-0073-49b7-b0ad-56846e2ed644",
        "colab": {
          "base_uri": "https://localhost:8080/"
        }
      },
      "outputs": [
        {
          "output_type": "stream",
          "name": "stdout",
          "text": [
            "Model: \"model\"\n",
            "_________________________________________________________________\n",
            " Layer (type)                Output Shape              Param #   \n",
            "=================================================================\n",
            " input_2 (InputLayer)        [(None, 224, 224, 3)]     0         \n",
            "                                                                 \n",
            " mobilenetv2_1.00_224 (Func  (None, 1280)              2257984   \n",
            " tional)                                                         \n",
            "                                                                 \n",
            " dense (Dense)               (None, 1024)              1311744   \n",
            "                                                                 \n",
            " dense_1 (Dense)             (None, 1)                 1025      \n",
            "                                                                 \n",
            "=================================================================\n",
            "Total params: 3570753 (13.62 MB)\n",
            "Trainable params: 1312769 (5.01 MB)\n",
            "Non-trainable params: 2257984 (8.61 MB)\n",
            "_________________________________________________________________\n",
            "None\n"
          ]
        }
      ],
      "source": [
        "inputs = tf.keras.Input(shape=(IMG_HEIGHT, IMG_WIDTH, 3))\n",
        "\n",
        "pretrained_model = mobilenet(inputs, training=False)\n",
        "\n",
        "dense = tf.keras.layers.Dense(1024, activation='relu')(pretrained_model)\n",
        "\n",
        "# Tambahkan layer dropout dengan rate 0.5\n",
        "dropout = tf.keras.layers.Dropout(0.6)(dense)\n",
        "\n",
        "outputs = tf.keras.layers.Dense(1, activation='sigmoid')(dense)\n",
        "\n",
        "model = tf.keras.Model(inputs, outputs)\n",
        "\n",
        "print(model.summary())"
      ]
    },
    {
      "cell_type": "code",
      "source": [
        "class MyCallback(tf.keras.callbacks.Callback):\n",
        "    def on_epoch_end(self, epoch, logs={}):\n",
        "        # Periksa akurasi\n",
        "        if logs.get('accuracy') > 0.90 and logs.get('val_accuracy') > 0.90:\n",
        "            # Hentikan pelatihan jika batas terpenuhi\n",
        "            print(\"\\nAkurasi di atas 95%, sehingga pelatihan dihentikan!\")\n",
        "            self.model.stop_training = True\n",
        "\n",
        "# Membuat instance dari kelas callback\n",
        "callbacks = MyCallback()\n",
        "\n",
        "early_stop = EarlyStopping(monitor='accuracy', patience=5)"
      ],
      "metadata": {
        "id": "wmJOqUPaIjpF"
      },
      "execution_count": 23,
      "outputs": []
    },
    {
      "cell_type": "code",
      "execution_count": 24,
      "metadata": {
        "id": "QjpRpDzahmzU",
        "outputId": "b0194c67-3257-41ce-d3c0-624988f2a334",
        "colab": {
          "base_uri": "https://localhost:8080/"
        }
      },
      "outputs": [
        {
          "output_type": "stream",
          "name": "stdout",
          "text": [
            "Epoch 1/100\n",
            "50/50 [==============================] - ETA: 0s - loss: 0.2515 - accuracy: 0.9025 - auc: 0.9531\n",
            "Akurasi di atas 95%, sehingga pelatihan dihentikan!\n",
            "50/50 [==============================] - 38s 674ms/step - loss: 0.2515 - accuracy: 0.9025 - auc: 0.9531 - val_loss: 0.1989 - val_accuracy: 0.9375 - val_auc: 1.0000\n"
          ]
        }
      ],
      "source": [
        "EPOCHS = 100\n",
        "steps = 50\n",
        "model.compile(\n",
        "    optimizer='adam',\n",
        "    loss='binary_crossentropy',\n",
        "    metrics=[ 'accuracy', tf.keras.metrics.AUC(name='auc')\n",
        "    ]\n",
        ")\n",
        "\n",
        "history = model.fit(\n",
        "    train_data,\n",
        "    validation_data=val_data,\n",
        "    batch_size=BATCH_SIZE,\n",
        "    epochs=EPOCHS,\n",
        "    steps_per_epoch=steps,\n",
        "    callbacks = [early_stop, callbacks]\n",
        ")"
      ]
    },
    {
      "cell_type": "markdown",
      "source": [
        "## Validation"
      ],
      "metadata": {
        "id": "5UIQt-FjouUI"
      }
    },
    {
      "cell_type": "code",
      "execution_count": 25,
      "metadata": {
        "id": "BsEkLun-hmzV",
        "outputId": "db500b5b-179c-4fb8-dec3-56850977674a",
        "colab": {
          "base_uri": "https://localhost:8080/",
          "height": 466
        }
      },
      "outputs": [
        {
          "output_type": "stream",
          "name": "stdout",
          "text": [
            "20/20 [==============================] - 13s 596ms/step\n"
          ]
        },
        {
          "output_type": "display_data",
          "data": {
            "text/plain": [
              "<Figure size 640x480 with 2 Axes>"
            ],
            "image/png": "[encoded data removed]"
          },
          "metadata": {}
        }
      ],
      "source": [
        "# Prediksi label pada data uji\n",
        "test_predictions = model.predict(test_data)\n",
        "test_predictions = np.round(test_predictions).astype(int)  # Mengubah probabilitas menjadi 0 atau 1\n",
        "\n",
        "# Dapatkan label sebenarnya dari data uji\n",
        "true_labels = test_data.labels\n",
        "\n",
        "# Hitung confusion matrix\n",
        "cm = confusion_matrix(true_labels, test_predictions)\n",
        "\n",
        "# Visualisasikan confusion matrix\n",
        "sns.heatmap(cm, annot=True, fmt='d')\n",
        "plt.xlabel('Predicted')\n",
        "plt.ylabel('True')\n",
        "plt.show()"
      ]
    },
    {
      "cell_type": "code",
      "execution_count": 26,
      "metadata": {
        "id": "IGRvQDknhmzY"
      },
      "outputs": [],
      "source": [
        "results = model.evaluate(test_data, verbose=0)\n",
        "\n",
        "accuracy = results[1]\n",
        "auc = results[2]"
      ]
    },
    {
      "cell_type": "code",
      "execution_count": 27,
      "metadata": {
        "id": "aXpFGf8GhmzZ"
      },
      "outputs": [],
      "source": [
        "tn, fp, fn, tp = cm.ravel()\n",
        "\n",
        "precision = tp / (tp + fp)\n",
        "recall = tp / (tp + fn)"
      ]
    },
    {
      "cell_type": "code",
      "execution_count": 28,
      "metadata": {
        "id": "iTdMFsHHhmzZ",
        "outputId": "8c778d24-7b88-4c1e-a223-49b00f678713",
        "colab": {
          "base_uri": "https://localhost:8080/"
        }
      },
      "outputs": [
        {
          "output_type": "stream",
          "name": "stdout",
          "text": [
            "Accuracy: 0.78\n",
            "AUC: 0.94\n",
            "Precision: 0.63\n",
            "Recall: 0.84\n"
          ]
        }
      ],
      "source": [
        "print(\"Accuracy: {:.2f}\".format(accuracy))\n",
        "print(\"AUC: {:.2f}\".format(auc))\n",
        "print(\"Precision: {:.2f}\".format(precision))\n",
        "print(\"Recall: {:.2f}\".format(recall))"
      ]
    }
  ],
  "metadata": {
    "kernelspec": {
      "display_name": "Python 3",
      "name": "python3"
    },
    "language_info": {
      "codemirror_mode": {
        "name": "ipython",
        "version": 3
      },
      "file_extension": ".py",
      "mimetype": "text/x-python",
      "name": "python",
      "nbconvert_exporter": "python",
      "pygments_lexer": "ipython3",
      "version": "3.8.5"
    },
    "colab": {
      "provenance": [],
      "gpuType": "T4",
      "include_colab_link": true
    },
    "accelerator": "GPU"
  },
  "nbformat": 4,
  "nbformat_minor": 0
}